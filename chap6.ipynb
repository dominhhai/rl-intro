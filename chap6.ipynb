{
 "cells": [
  {
   "cell_type": "markdown",
   "metadata": {},
   "source": [
    "# Chapter 6: Temporal-Difference Learning"
   ]
  },
  {
   "cell_type": "markdown",
   "metadata": {},
   "source": [
    "## 1. TD Prediction\n",
    "- combination of MC and DP\n",
    "    - use experience\n",
    "    - bootstrapping\n",
    "- *constant-α* MC for simple every-visit MC method:\n",
    "    - must wait until the end of the episode to obtain $G_t$\n",
    "$$V(S_t) = V(S_t) + \\alpha\\big[G_t-V(S_t)\\big]$$\n",
    "- **one-step TD** - *TD(0)* method:\n",
    "    - bootstrapping\n",
    "$$V(S_t) = V(S_t) + \\alpha\\big[R_{t+1}+\\gamma V(S_{t+1})-V(S_t)\\big]$$\n",
    "\n",
    "![TD 0](assets/6.1.td0.png)\n",
    "\n",
    "\n",
    "- TD *error*:\n",
    "$$\\delta_t = R_{t+1}+\\gamma V(S_{t+1})-V(S_t)$$\n",
    "\n",
    "    if, array $V$ does not change during the episode, then MC error can be written as a sum of TD errors:\n",
    "    $$G_t-V(S_t) = \\sum_{k=t}^{T-1}\\gamma^{k-t}\\delta_k$$\n",
    "    \n",
    "- Advantages of TD prediction\n",
    "    - do not require a model of the environment, only experience\n",
    "    - can implement in an online, fully incremental fashion\n",
    "        - wait only one time step\n",
    "    - converge to the true values\n",
    "    - TD is faster than constant-α MC, in pratice\n",
    "        - open question for proving mathematically"
   ]
  },
  {
   "cell_type": "markdown",
   "metadata": {},
   "source": [
    "## 2. Optimality of TD(0)\n"
   ]
  },
  {
   "cell_type": "code",
   "execution_count": null,
   "metadata": {},
   "outputs": [],
   "source": []
  }
 ],
 "metadata": {
  "kernelspec": {
   "display_name": "Python 2",
   "language": "python",
   "name": "python2"
  },
  "language_info": {
   "codemirror_mode": {
    "name": "ipython",
    "version": 2
   },
   "file_extension": ".py",
   "mimetype": "text/x-python",
   "name": "python",
   "nbconvert_exporter": "python",
   "pygments_lexer": "ipython2",
   "version": "2.7.15"
  }
 },
 "nbformat": 4,
 "nbformat_minor": 2
}
