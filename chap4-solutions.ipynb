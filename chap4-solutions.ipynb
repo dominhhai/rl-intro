{
 "cells": [
  {
   "cell_type": "markdown",
   "metadata": {},
   "source": [
    "# Chapter 3: Dynamic Programming"
   ]
  },
  {
   "cell_type": "markdown",
   "metadata": {},
   "source": [
    "## 1. Exercise 4.1\n",
    "$\\pi$ is equiprobable random policy, so all actions equally likely.\n",
    "\n",
    "- $q_\\pi(11, down)$\n",
    "\n",
    "With current state $s=11$ and action $a=down$, we have next is the terminal state $s'=end$, which have reward $R'=0$\n",
    "\n",
    "$$\n",
    "\\begin{aligned}\n",
    "q_\\pi(11, down) &= \\sum_{s',r}p(s',r | s,a)\\big[r+\\gamma v_\\pi(s')\\big]\n",
    "\\cr &= 1 * (-1 + 0)\n",
    "\\cr &= -1\n",
    "\\end{aligned}\n",
    "$$\n",
    "\n",
    "- $q_\\pi(7, down)$\n",
    "\n",
    "With current state $s=7$ and action $a=down$, we have next is the terminal state $s'=11$, which have state-value function $v_\\pi(s)$\n",
    "\n",
    "$$\n",
    "\\begin{aligned}\n",
    "q_\\pi(7, down) &= \\sum_{s',r}p(s',r | s,a)\\big[r+\\gamma v_\\pi(s')\\big]\n",
    "\\cr &= 1 * \\big[-1 + \\gamma v_\\pi(s')\\big]\n",
    "\\cr &= -1 + \\gamma v_\\pi(s')\n",
    "\\end{aligned}\n",
    "$$"
   ]
  },
  {
   "cell_type": "markdown",
   "metadata": {},
   "source": [
    "## 2. Exercise 4.2\n",
    "- Transitions from the original states are unchanged\n",
    "$$\n",
    "\\begin{aligned}\n",
    "v_\\pi(15) &= \\sum_a \\pi(a|s=15)\\sum_{s',r}p(s',r|s,a)\\big[r+\\gamma v_\\pi(s')\\big]\n",
    "\\cr &= 0.25\\big[1*\\big(-1+\\gamma v_\\pi(12)\\big)+1*\\big(-1+\\gamma v_\\pi(13)\\big)+1*\\big(-1+\\gamma v_\\pi(14)\\big)+1*\\big(-1+\\gamma v_\\pi(15)\\big)\\big]\n",
    "\\cr &= -1 + 0.25\\gamma\\sum_{s=12}^{15}v_\\pi(s)\n",
    "\\end{aligned}\n",
    "$$\n",
    "\n",
    "In which, $\\displaystyle v_\\pi(13)=-1 + 0.25\\gamma\\sum_{s\\in\\{9,12,13,14\\}}v_\\pi(s)$ \n",
    "- Add action **down** to state 13, to go to state 15\n",
    "\n",
    "Compute Fomular is similar to above:\n",
    "$$v_\\pi(15)=-1 + 0.25\\gamma\\sum_{s=12}^{15}v_\\pi(s)$$\n",
    "\n",
    "But, $\\displaystyle v_\\pi(13)=-1 + 0.25\\gamma\\sum_{s\\in\\{9,12,14,15\\}}v_\\pi(s)$ "
   ]
  },
  {
   "cell_type": "markdown",
   "metadata": {},
   "source": [
    "## 3. Exercise 4.3\n",
    "- $q_\\pi$ evaluation\n",
    "$$\n",
    "\\begin{aligned}\n",
    "q_\\pi(s, a) &= E[G_t | S_t=s, A_t=a]\n",
    "\\cr &= E[R_{t+1}+\\gamma G_{t+1} | S_t=s, A_t=a]\n",
    "\\cr &= E[R_{t+1}+\\gamma V_\\pi(S_{t+1}) | S_t=s, A_t=a]\n",
    "\\cr &= \\sum_{s',r}p(s',r | s,a)\\big[r+\\gamma v_\\pi(s')\\big]\n",
    "\\end{aligned}\n",
    "$$\n",
    "\n",
    "- Update rule for $q_\\pi$\n",
    "$$\n",
    "\\begin{aligned}\n",
    "q_{k+1}(s, a) &= E_\\pi[R_{t+1} + \\gamma v_k(S_{t+1}) | S_t=s, A_t=a]\n",
    "\\cr &= \\sum_{s',r}p(s',r | s,a)\\big[r+\\gamma v_k(s')\\big]\n",
    "\\cr &= \\sum_{s',r}p(s',r | s,a)\\Big[r+\\gamma \\sum_{a'\\in\\mathcal A(s')}\\pi(a' | s')q_k(s', a')\\Big]\n",
    "\\end{aligned}\n",
    "$$"
   ]
  },
  {
   "cell_type": "markdown",
   "metadata": {},
   "source": [
    "## 4. Exercise 4.4\n",
    "When, the policy continually switches between two or more policies that are equally good, the difference between switches is small, so policy evaluation loop will be breaked before convergence.\n",
    "\n",
    "$$\\Delta = \\max\\big(\\Delta, | v-V(s) |\\big)$$\n",
    "\n",
    "So, in this case, it maybe useful if we talk the sum of all differences\n",
    "$$\\Delta = \\Delta + | v-V(s) |$$"
   ]
  },
  {
   "cell_type": "markdown",
   "metadata": {},
   "source": [
    "## 5. Exercise 4.5\n",
    "\n",
    "Policy Iteration algorithm for action values\n",
    "\n",
    "### 1. Initialization\n",
    "$\\quad \\pi(s)\\in\\mathcal A(s)$ and $Q(s,a)\\in\\mathbb R$ arbitrarily for all $s\\in\\mathcal S$ and $a\\in\\mathcal A(s)$\n",
    "\n",
    "### 2. Policy Evaluation\n",
    "$\\quad$Loop:\n",
    "  \n",
    "$\\quad\\quad \\Delta\\gets0$\n",
    "\n",
    "$\\quad\\quad$ Loop for each $s\\in\\mathcal S$\n",
    "\n",
    "$\\quad\\quad\\quad$ Loop for each $a\\in\\mathcal A(s)$\n",
    "\n",
    "$\\quad\\quad\\quad\\quad q\\gets Q(s,a)$\n",
    "\n",
    "$\\quad\\quad\\quad\\quad \\displaystyle Q(s,a)\\gets \\sum_{s',r}p(s',r | s,a)\\Big[r+\\gamma \\sum_{a'\\in\\mathcal A(s')}\\pi(a' | s')Q(s', a')\\Big]$\n",
    "\n",
    "$\\quad\\quad\\quad\\quad \\Delta\\gets \\Delta+\\big| q- Q(s,a)\\big|$\n",
    "\n",
    "$\\quad\\quad \\text{until }\\Delta<\\theta$ a small positive number determining the accuracy of estimation\n",
    "\n",
    "\n",
    "### 3. Policy Improvement\n",
    "$\\quad\\textit{policy-stable}\\gets\\textit{true}$\n",
    "\n",
    "$\\quad$For each $s\\in\\mathcal S$\n",
    "\n",
    "$\\quad\\quad \\textit{old-aciton}\\gets\\pi(s)$\n",
    "\n",
    "$\\quad\\quad \\pi(s)\\gets\\arg\\max_a Q(s,a)$\n",
    "\n",
    "$\\quad\\quad$If $\\textit{old-aciton}\\neq\\pi(s)$, then $\\textit{policy-stable}\\gets\\textit{false}$\n",
    "\n",
    "$\\quad$If $\\textit{policy-stable}$, then stop and return $Q\\approx q_*$ and $\\pi\\approx\\pi_*$; else go to $2$\n"
   ]
  },
  {
   "cell_type": "markdown",
   "metadata": {},
   "source": [
    "## 6. Exercise 4.6\n"
   ]
  },
  {
   "cell_type": "markdown",
   "metadata": {},
   "source": [
    "## 7. Exercise 4.7"
   ]
  },
  {
   "cell_type": "markdown",
   "metadata": {},
   "source": [
    "## 8. Exercise 4.8"
   ]
  },
  {
   "cell_type": "markdown",
   "metadata": {},
   "source": [
    "## 9. Exercise 4.9"
   ]
  },
  {
   "cell_type": "markdown",
   "metadata": {},
   "source": [
    "## 10. Exercise 4.10\n",
    "Value iteration update for action values, $q_{k+1}(s,a)$\n",
    "\n",
    "$$\n",
    "\\begin{aligned}\n",
    "q_{k+1}(s,a) &= \\max E\\big[R_{t+1}+\\gamma v_k(S_{t+1}) | S_t=s,A_t=a\\big]\n",
    "\\cr &= \\max\\sum_{s',r}p(s',r | s,a)\\big[r+\\gamma v_k(s')\\big]\n",
    "\\cr &= \\max\\sum_{s',r}p(s',r | s,a)\\big[r+\\gamma\\sum_{a'\\in\\mathcal A(s')}\\pi(a' | s')q_k(s', a')\\big]\n",
    "\\end{aligned}\n",
    "$$"
   ]
  },
  {
   "cell_type": "code",
   "execution_count": null,
   "metadata": {},
   "outputs": [],
   "source": []
  }
 ],
 "metadata": {
  "kernelspec": {
   "display_name": "Python 2",
   "language": "python",
   "name": "python2"
  },
  "language_info": {
   "codemirror_mode": {
    "name": "ipython",
    "version": 2
   },
   "file_extension": ".py",
   "mimetype": "text/x-python",
   "name": "python",
   "nbconvert_exporter": "python",
   "pygments_lexer": "ipython2",
   "version": "2.7.15"
  }
 },
 "nbformat": 4,
 "nbformat_minor": 2
}
