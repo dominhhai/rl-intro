{
 "cells": [
  {
   "cell_type": "markdown",
   "metadata": {},
   "source": [
    "# Chapter 1: Introduction"
   ]
  },
  {
   "cell_type": "markdown",
   "metadata": {},
   "source": [
    "## 1. Elements of RL\n",
    "- **1. Policy $\\pi_t$**: agent's behavior at a given time\n",
    "- **2. Reward signal $R_t$**: goal of a RL problem\n",
    "- **3. Value function $V_t, Q_t$**: total amount of `reward` over the future from that state\n",
    "- **4. Model of the environment**: behavior of environment\n",
    "\n",
    "![RL Interface](assets/rl_interface.png)\n",
    "\n",
    "- Environment may be unknown, non-linear, stochastic and complex\n",
    "- Agent learns a policy mapping states to actions\n",
    "    - Seeking to maximize its *cumulative reward* in the long-run\n",
    "\n",
    "## 2. Types of RL\n",
    "- Value-Based\n",
    "- Policy-Based\n",
    "- Actor-Critic: Policy & Value Function\n",
    "- Model-Based method\n",
    "- Model-Free method"
   ]
  },
  {
   "cell_type": "code",
   "execution_count": null,
   "metadata": {},
   "outputs": [],
   "source": []
  }
 ],
 "metadata": {
  "kernelspec": {
   "display_name": "Python 2",
   "language": "python",
   "name": "python2"
  },
  "language_info": {
   "codemirror_mode": {
    "name": "ipython",
    "version": 2
   },
   "file_extension": ".py",
   "mimetype": "text/x-python",
   "name": "python",
   "nbconvert_exporter": "python",
   "pygments_lexer": "ipython2",
   "version": "2.7.15"
  }
 },
 "nbformat": 4,
 "nbformat_minor": 2
}
